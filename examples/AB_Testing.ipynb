{
 "cells": [
  {
   "cell_type": "markdown",
   "metadata": {},
   "source": [
    "#### Clean Data"
   ]
  },
  {
   "cell_type": "code",
   "execution_count": 1,
   "metadata": {},
   "outputs": [],
   "source": [
    "#import packages\n",
    "import pandas as pd\n",
    "import math\n",
    "import statsmodels.stats.api as sms\n",
    "import scipy.stats as st\n",
    "import numpy as np"
   ]
  },
  {
   "cell_type": "code",
   "execution_count": 11,
   "metadata": {},
   "outputs": [
    {
     "name": "stdout",
     "output_type": "stream",
     "text": [
      "Number of rows:  286690  Number of columns:  6\n"
     ]
    },
    {
     "data": {
      "text/html": [
       "<div>\n",
       "<style scoped>\n",
       "    .dataframe tbody tr th:only-of-type {\n",
       "        vertical-align: middle;\n",
       "    }\n",
       "\n",
       "    .dataframe tbody tr th {\n",
       "        vertical-align: top;\n",
       "    }\n",
       "\n",
       "    .dataframe thead th {\n",
       "        text-align: right;\n",
       "    }\n",
       "</style>\n",
       "<table border=\"1\" class=\"dataframe\">\n",
       "  <thead>\n",
       "    <tr style=\"text-align: right;\">\n",
       "      <th></th>\n",
       "      <th>Unnamed: 0</th>\n",
       "      <th>user_id</th>\n",
       "      <th>timestamp</th>\n",
       "      <th>group</th>\n",
       "      <th>landing_page</th>\n",
       "      <th>converted</th>\n",
       "    </tr>\n",
       "  </thead>\n",
       "  <tbody>\n",
       "    <tr>\n",
       "      <th>0</th>\n",
       "      <td>0</td>\n",
       "      <td>851104</td>\n",
       "      <td>2017-01-21 22:11:48.556739</td>\n",
       "      <td>control</td>\n",
       "      <td>old_page</td>\n",
       "      <td>0</td>\n",
       "    </tr>\n",
       "    <tr>\n",
       "      <th>1</th>\n",
       "      <td>1</td>\n",
       "      <td>804228</td>\n",
       "      <td>2017-01-12 08:01:45.159739</td>\n",
       "      <td>control</td>\n",
       "      <td>old_page</td>\n",
       "      <td>0</td>\n",
       "    </tr>\n",
       "    <tr>\n",
       "      <th>2</th>\n",
       "      <td>2</td>\n",
       "      <td>661590</td>\n",
       "      <td>2017-01-11 16:55:06.154213</td>\n",
       "      <td>treatment</td>\n",
       "      <td>new_page</td>\n",
       "      <td>0</td>\n",
       "    </tr>\n",
       "    <tr>\n",
       "      <th>3</th>\n",
       "      <td>3</td>\n",
       "      <td>853541</td>\n",
       "      <td>2017-01-08 18:28:03.143765</td>\n",
       "      <td>treatment</td>\n",
       "      <td>new_page</td>\n",
       "      <td>0</td>\n",
       "    </tr>\n",
       "    <tr>\n",
       "      <th>4</th>\n",
       "      <td>4</td>\n",
       "      <td>864975</td>\n",
       "      <td>2017-01-21 01:52:26.210827</td>\n",
       "      <td>control</td>\n",
       "      <td>old_page</td>\n",
       "      <td>1</td>\n",
       "    </tr>\n",
       "    <tr>\n",
       "      <th>...</th>\n",
       "      <td>...</td>\n",
       "      <td>...</td>\n",
       "      <td>...</td>\n",
       "      <td>...</td>\n",
       "      <td>...</td>\n",
       "      <td>...</td>\n",
       "    </tr>\n",
       "    <tr>\n",
       "      <th>286685</th>\n",
       "      <td>294473</td>\n",
       "      <td>751197</td>\n",
       "      <td>2017-01-03 22:28:38.630509</td>\n",
       "      <td>control</td>\n",
       "      <td>old_page</td>\n",
       "      <td>0</td>\n",
       "    </tr>\n",
       "    <tr>\n",
       "      <th>286686</th>\n",
       "      <td>294474</td>\n",
       "      <td>945152</td>\n",
       "      <td>2017-01-12 00:51:57.078372</td>\n",
       "      <td>control</td>\n",
       "      <td>old_page</td>\n",
       "      <td>0</td>\n",
       "    </tr>\n",
       "    <tr>\n",
       "      <th>286687</th>\n",
       "      <td>294475</td>\n",
       "      <td>734608</td>\n",
       "      <td>2017-01-22 11:45:03.439544</td>\n",
       "      <td>control</td>\n",
       "      <td>old_page</td>\n",
       "      <td>0</td>\n",
       "    </tr>\n",
       "    <tr>\n",
       "      <th>286688</th>\n",
       "      <td>294476</td>\n",
       "      <td>697314</td>\n",
       "      <td>2017-01-15 01:20:28.957438</td>\n",
       "      <td>control</td>\n",
       "      <td>old_page</td>\n",
       "      <td>0</td>\n",
       "    </tr>\n",
       "    <tr>\n",
       "      <th>286689</th>\n",
       "      <td>294477</td>\n",
       "      <td>715931</td>\n",
       "      <td>2017-01-16 12:40:24.467417</td>\n",
       "      <td>treatment</td>\n",
       "      <td>new_page</td>\n",
       "      <td>0</td>\n",
       "    </tr>\n",
       "  </tbody>\n",
       "</table>\n",
       "<p>286690 rows × 6 columns</p>\n",
       "</div>"
      ],
      "text/plain": [
       "        Unnamed: 0  user_id                   timestamp      group  \\\n",
       "0                0   851104  2017-01-21 22:11:48.556739    control   \n",
       "1                1   804228  2017-01-12 08:01:45.159739    control   \n",
       "2                2   661590  2017-01-11 16:55:06.154213  treatment   \n",
       "3                3   853541  2017-01-08 18:28:03.143765  treatment   \n",
       "4                4   864975  2017-01-21 01:52:26.210827    control   \n",
       "...            ...      ...                         ...        ...   \n",
       "286685      294473   751197  2017-01-03 22:28:38.630509    control   \n",
       "286686      294474   945152  2017-01-12 00:51:57.078372    control   \n",
       "286687      294475   734608  2017-01-22 11:45:03.439544    control   \n",
       "286688      294476   697314  2017-01-15 01:20:28.957438    control   \n",
       "286689      294477   715931  2017-01-16 12:40:24.467417  treatment   \n",
       "\n",
       "       landing_page  converted  \n",
       "0          old_page          0  \n",
       "1          old_page          0  \n",
       "2          new_page          0  \n",
       "3          new_page          0  \n",
       "4          old_page          1  \n",
       "...             ...        ...  \n",
       "286685     old_page          0  \n",
       "286686     old_page          0  \n",
       "286687     old_page          0  \n",
       "286688     old_page          0  \n",
       "286689     new_page          0  \n",
       "\n",
       "[286690 rows x 6 columns]"
      ]
     },
     "execution_count": 11,
     "metadata": {},
     "output_type": "execute_result"
    }
   ],
   "source": [
    "#import data\n",
    "raw_data = pd.read_csv(\"ab_data.csv\")\n",
    "df = raw_data.copy()\n",
    "\n",
    "print(\"Number of rows: \", df.shape[0], \" Number of columns: \", df.shape[1])\n",
    "df"
   ]
  },
  {
   "cell_type": "code",
   "execution_count": 3,
   "metadata": {},
   "outputs": [
    {
     "data": {
      "text/plain": [
       "treatment    143397\n",
       "control      143293\n",
       "Name: group, dtype: int64"
      ]
     },
     "execution_count": 3,
     "metadata": {},
     "output_type": "execute_result"
    }
   ],
   "source": [
    "df[\"group\"].value_counts()"
   ]
  },
  {
   "cell_type": "code",
   "execution_count": 4,
   "metadata": {},
   "outputs": [
    {
     "name": "stdout",
     "output_type": "stream",
     "text": [
      "(286690, 6)\n"
     ]
    },
    {
     "data": {
      "text/plain": [
       "treatment    143397\n",
       "control      143293\n",
       "Name: group, dtype: int64"
      ]
     },
     "execution_count": 4,
     "metadata": {},
     "output_type": "execute_result"
    }
   ],
   "source": [
    "#some of the control group saw the new_page and some tretment group saw the old_page - delete these instances\n",
    "mask1 = (df[\"group\"] == \"control\") & (df[\"landing_page\"] == \"new_page\")\n",
    "index_to_drop1 = df[mask1].index\n",
    "df = df.drop(index_to_drop1)\n",
    "\n",
    "mask2 = (df[\"group\"] == \"treatment\") & (df[\"landing_page\"] == \"old_page\")\n",
    "index_to_drop2 = df[mask2].index\n",
    "df = df.drop(index_to_drop2)\n",
    "\n",
    "print(df.shape)\n",
    "df[\"group\"].value_counts()"
   ]
  },
  {
   "cell_type": "code",
   "execution_count": 5,
   "metadata": {},
   "outputs": [
    {
     "name": "stdout",
     "output_type": "stream",
     "text": [
      "286690\n",
      "286690\n"
     ]
    }
   ],
   "source": [
    "#Check how many duplicated users exist\n",
    "print(df[\"user_id\"].count())\n",
    "print(df[\"user_id\"].nunique())"
   ]
  },
  {
   "cell_type": "code",
   "execution_count": 6,
   "metadata": {},
   "outputs": [],
   "source": [
    "#drop duplicated users\n",
    "df.drop_duplicates(subset ='user_id',keep ='first',inplace = True)"
   ]
  },
  {
   "cell_type": "code",
   "execution_count": 21,
   "metadata": {},
   "outputs": [
    {
     "name": "stdout",
     "output_type": "stream",
     "text": [
      "División de usuarios del grupo de control que vieron la página antigua frente a usuarios del grupo de tratamiento que vieron la página nueva:  49.98 %  50.02 %\n",
      "Número de usuarios del grupo de control que se convirtieron al ver la página antigua:  17220\n",
      "Total de usuarios del grupo de control:  143293\n",
      "Porcentaje de usuarios del grupo de control que se convirtieron:  12.02 %\n",
      "Número de usuarios del grupo de tratamiento que se convirtieron al ver la página nueva:  17025\n",
      "Total de usuarios del grupo de control:  143397\n",
      "Porcentaje de usuarios del grupo de tratamiento que se convirtieron:  11.87 %\n"
     ]
    }
   ],
   "source": [
    "#Show the % split between users who saw new vs old page\n",
    "#Calculate pooled probability\n",
    "mask = (df[\"group\"] == \"control\")\n",
    "conversions_control = df[\"converted\"][mask].sum()\n",
    "total_users_control = df[\"converted\"][mask].count()\n",
    "\n",
    "mask = (df[\"group\"] == \"treatment\")\n",
    "conversions_treatment = df[\"converted\"][mask].sum()\n",
    "total_users_treatment = df[\"converted\"][mask].count()\n",
    "\n",
    "print(\"División de usuarios del grupo de control que vieron la página antigua frente a usuarios del grupo de tratamiento que vieron la página nueva: \", \n",
    "          round(total_users_control / df[\"converted\"].count() * 100, 2), \"% \",\n",
    "          round((total_users_treatment / df[\"converted\"].count()) * 100, 2), \"%\")\n",
    "\n",
    "print('\\n--------------------------------------------------------------------------------------------------------------------------------------------------------\\n')\n",
    "\n",
    "#count number of users who converted in each group\n",
    "print(\"Número de usuarios del grupo de control que se convirtieron al ver la página antigua: \", conversions_control)\n",
    "print(\"Total de usuarios del grupo de control: \", total_users_control)\n",
    "print(\"Porcentaje de usuarios del grupo de control que se convirtieron: \", round((conversions_control / total_users_control) * 100, 2), \"%\")\n",
    "\n",
    "print('\\n--------------------------------------------------------------------------------------------------------------------------------------------------------\\n')\n",
    "\n",
    "print(\"Número de usuarios del grupo de tratamiento que se convirtieron al ver la página nueva: \", conversions_treatment)\n",
    "print(\"Total de usuarios del grupo de control: \", total_users_treatment)\n",
    "print(\"Porcentaje de usuarios del grupo de tratamiento que se convirtieron: \", round((conversions_treatment/ total_users_treatment) * 100, 2), \"%\")"
   ]
  },
  {
   "cell_type": "code",
   "execution_count": 8,
   "metadata": {},
   "outputs": [
    {
     "data": {
      "text/html": [
       "<div>\n",
       "<style scoped>\n",
       "    .dataframe tbody tr th:only-of-type {\n",
       "        vertical-align: middle;\n",
       "    }\n",
       "\n",
       "    .dataframe tbody tr th {\n",
       "        vertical-align: top;\n",
       "    }\n",
       "\n",
       "    .dataframe thead tr th {\n",
       "        text-align: left;\n",
       "    }\n",
       "\n",
       "    .dataframe thead tr:last-of-type th {\n",
       "        text-align: right;\n",
       "    }\n",
       "</style>\n",
       "<table border=\"1\" class=\"dataframe\">\n",
       "  <thead>\n",
       "    <tr>\n",
       "      <th></th>\n",
       "      <th>sum</th>\n",
       "      <th>mean</th>\n",
       "    </tr>\n",
       "    <tr>\n",
       "      <th></th>\n",
       "      <th>converted</th>\n",
       "      <th>converted</th>\n",
       "    </tr>\n",
       "    <tr>\n",
       "      <th>group</th>\n",
       "      <th></th>\n",
       "      <th></th>\n",
       "    </tr>\n",
       "  </thead>\n",
       "  <tbody>\n",
       "    <tr>\n",
       "      <th>control</th>\n",
       "      <td>17220</td>\n",
       "      <td>0.120173</td>\n",
       "    </tr>\n",
       "    <tr>\n",
       "      <th>treatment</th>\n",
       "      <td>17025</td>\n",
       "      <td>0.118726</td>\n",
       "    </tr>\n",
       "  </tbody>\n",
       "</table>\n",
       "</div>"
      ],
      "text/plain": [
       "                sum      mean\n",
       "          converted converted\n",
       "group                        \n",
       "control       17220  0.120173\n",
       "treatment     17025  0.118726"
      ]
     },
     "execution_count": 8,
     "metadata": {},
     "output_type": "execute_result"
    }
   ],
   "source": [
    "df.head()\n",
    "pv=pd.pivot_table(df,index='group',values='converted',aggfunc=[np.sum,np.mean])\n",
    "pv"
   ]
  },
  {
   "cell_type": "markdown",
   "metadata": {},
   "source": [
    "#### Set Test Parameters"
   ]
  },
  {
   "cell_type": "code",
   "execution_count": 23,
   "metadata": {},
   "outputs": [
    {
     "name": "stdout",
     "output_type": "stream",
     "text": [
      "Required sample size:  17183  per group\n"
     ]
    }
   ],
   "source": [
    "#Check what sample size is required\n",
    "baseline_rate = conversions_control / total_users_control\n",
    "practical_significance = 0.01 #user defined\n",
    "confidence_level = 0.05 #user defined, for a 95% confidence interval\n",
    "sensitivity = 0.8 #user defined\n",
    "\n",
    "effect_size = sms.proportion_effectsize(baseline_rate, baseline_rate + practical_significance)\n",
    "sample_size = sms.NormalIndPower().solve_power(\n",
    "    effect_size = effect_size, \n",
    "    power = sensitivity, \n",
    "    alpha = confidence_level, \n",
    "    # se establece en 1 para indicar que se compara un grupo con otro grupo de tamaño igual\n",
    "    ratio=1\n",
    ") \n",
    "\n",
    "print(\"Required sample size: \", round(sample_size), \" per group\")"
   ]
  },
  {
   "attachments": {},
   "cell_type": "markdown",
   "metadata": {},
   "source": [
    "### Tamaño del efecto \n",
    "\n",
    "El tamaño del efecto se refiere a la magnitud o fuerza de una diferencia o relación entre variables en un estudio. Es una medida estandarizada que indica la magnitud relativa de un efecto o la fuerza de una asociación en términos estadísticos. Un tamaño del efecto más grande indica una diferencia o relación más fuerte entre variables, mientras que un tamaño del efecto más pequeño indica una diferencia o relación más débil. El tamaño del efecto se utiliza para evaluar la importancia práctica o sustantiva de los resultados de un estudio y puede ser utilizado para comparar la magnitud de los efectos en diferentes estudios.\n",
    "\n",
    "Es cierto que el tamaño del efecto es una medida utilizada para cuantificar la magnitud de la diferencia o relación entre dos grupos o variables. En el código que se muestra, se utiliza la función proportion_effectsize de la biblioteca statsmodels para calcular el tamaño del efecto en un estudio diseñado para comparar dos proporciones: una tasa de conversión en el grupo de control (conversions_control / total_users_control) y una tasa de conversión en otro grupo que se supone con una diferencia prácticamente significativa.\n",
    "\n",
    "El parámetro practical_significance es una diferencia entre las tasas de conversión entre los grupos que se considera importante o relevante en un sentido práctico. El baseline_rate es la proporción o tasa de conversión en el grupo de control.\n",
    "\n",
    "Al utilizar la función proportion_effectsize se está usando la diferencia entre el baseline_rate (el grupo de control) y la tasa de conversión que se considera prácticamente significativa (baseline_rate + practical_significance) como un parámetro para calcular el tamaño del efecto.\n",
    "\n",
    "Este cálculo del tamaño del efecto se realiza para poder determinar el tamaño de muestra necesario para detectar una diferencia prácticamente significativa con una determinada probabilidad (dada por el nivel de confianza) y una potencia determinada por la sensibilidad (sensitivity).\n",
    "\n",
    "### Tamaño de la muestra\n",
    "\n",
    "El tamaño de la muestra, por otro lado, se refiere al número de observaciones o participantes en un estudio. Es la cantidad de datos que se recopilan o analizan en un estudio. El tamaño de la muestra es un factor importante en el diseño de estudios estadísticos, ya que afecta la precisión y confiabilidad de los resultados obtenidos. Un tamaño de muestra más grande tiende a proporcionar estimaciones más precisas y confiables de los parámetros poblacionales y aumenta la capacidad del estudio para detectar efectos o relaciones reales entre variables. Por lo tanto, el tamaño de la muestra es un aspecto importante en el diseño y planificación de estudios de investigación y análisis de potencia."
   ]
  },
  {
   "cell_type": "markdown",
   "metadata": {},
   "source": [
    "#### A/B Test"
   ]
  },
  {
   "cell_type": "code",
   "execution_count": 27,
   "metadata": {},
   "outputs": [],
   "source": [
    "#Calculate pooled probability\n",
    "mask = (df[\"group\"] == \"control\")\n",
    "conversions_control = df[\"converted\"][mask].sum()\n",
    "total_users_control = df[\"converted\"][mask].count()\n",
    "\n",
    "mask = (df[\"group\"] == \"treatment\")\n",
    "conversions_treatment = df[\"converted\"][mask].sum()\n",
    "total_users_treatment = df[\"converted\"][mask].count()\n",
    "\n",
    "prob_pooled = (conversions_control + conversions_treatment) / (total_users_control + total_users_treatment)"
   ]
  },
  {
   "cell_type": "code",
   "execution_count": 29,
   "metadata": {},
   "outputs": [
    {
     "name": "stdout",
     "output_type": "stream",
     "text": [
      "No se rechaza la hipótesis nula\n",
      "La cota inferior del intervalo de confianza es:  -0.38 %\n",
      "La cota superior del intervalo de confianza es:  0.09 %\n"
     ]
    }
   ],
   "source": [
    "#Calculate pooled standard error and margin of error\n",
    "se_pooled = math.sqrt(prob_pooled * (1 - prob_pooled) * (1 / total_users_control + 1 / total_users_treatment))\n",
    "z_score = st.norm.ppf(1 - confidence_level / 2)\n",
    "margin_of_error = se_pooled * z_score\n",
    "\n",
    "#Calculate dhat, the estimated difference between probability of conversions in the experiment and control groups\n",
    "d_hat = (conversions_treatment / total_users_treatment) - (conversions_control / total_users_control)\n",
    "\n",
    "#Test if we can reject the null hypothesis\n",
    "lower_bound = d_hat - margin_of_error\n",
    "upper_bound = d_hat + margin_of_error\n",
    "\n",
    "if practical_significance < lower_bound:\n",
    "    print(\"Se rechaza la hipótesis nula\")\n",
    "else: \n",
    "    print(\"No se rechaza la hipótesis nula\")\n",
    "    \n",
    "print(\"La cota inferior del intervalo de confianza es: \", round(lower_bound * 100, 2), \"%\")\n",
    "print(\"La cota superior del intervalo de confianza es: \", round(upper_bound * 100, 2), \"%\")"
   ]
  },
  {
   "cell_type": "markdown",
   "metadata": {},
   "source": [
    "Se calcula el error estándar combinado (se_pooled) utilizando la fórmula matemática que tiene en cuenta la probabilidad combinada (prob_pooled), el tamaño de muestra en ambos grupos (total_users_control y total_users_treatment), y la corrección por continuidad en la distribución normal. El resultado se guarda en la variable \"se_pooled\".\n",
    "\n",
    "Se calcula el valor z-score (z_score) utilizando la función \"norm.ppf\" de la biblioteca \"scipy.stats\" para obtener el valor crítico de la distribución normal estándar correspondiente a un nivel de confianza de (1 - confidence_level / 2). El resultado se guarda en la variable \"z_score\".\n",
    "\n",
    "Se calcula el margen de error (margin_of_error) multiplicando el error estándar combinado (se_pooled) por el valor z-score (z_score). El resultado se guarda en la variable \"margin_of_error\".\n",
    "\n",
    "Se calcula la estimación de la diferencia entre las probabilidades de conversión en los grupos de tratamiento y control (d_hat) restando la probabilidad de conversión en el grupo de control (conversions_control / total_users_control) de la probabilidad de conversión en el grupo de tratamiento (conversions_treatment / total_users_treatment).\n",
    "\n",
    "Se calcula el límite inferior del intervalo de confianza (lower_bound) restando el margen de error (margin_of_error) de la estimación de la diferencia (d_hat).\n",
    "\n",
    "Se calcula el límite superior del intervalo de confianza (upper_bound) sumando el margen de error (margin_of_error) a la estimación de la diferencia (d_hat).\n",
    "\n",
    "Se realiza una prueba de hipótesis comparando el valor práctico de significancia (practical_significance) con el límite inferior del intervalo de confianza (lower_bound). Si el valor práctico de significancia es menor que el límite inferior del intervalo de confianza, se imprime \"Reject null hypothesis\", lo cual implica que se puede rechazar la hipótesis nula. En caso contrario, se imprime \"Do not reject the null hypothesis\", lo cual implica que no se puede rechazar la hipótesis nula.\n",
    "\n",
    "Se imprime el límite inferior del intervalo de confianza (lower_bound) redondeado a dos decimales como porcentaje.\n",
    "\n",
    "Se imprime el límite superior del intervalo de confianza (upper_bound) redondeado a dos decimales como porcentaje."
   ]
  }
 ],
 "metadata": {
  "kernelspec": {
   "display_name": "ai-env",
   "language": "python",
   "name": "ai-env"
  },
  "language_info": {
   "codemirror_mode": {
    "name": "ipython",
    "version": 3
   },
   "file_extension": ".py",
   "mimetype": "text/x-python",
   "name": "python",
   "nbconvert_exporter": "python",
   "pygments_lexer": "ipython3",
   "version": "3.11.2"
  }
 },
 "nbformat": 4,
 "nbformat_minor": 2
}
